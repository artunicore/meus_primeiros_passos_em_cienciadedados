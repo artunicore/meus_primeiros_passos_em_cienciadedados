{
 "cells": [
  {
   "cell_type": "code",
   "execution_count": 26,
   "id": "57f6f65b-6c4f-4d69-8b86-e15d33afb505",
   "metadata": {},
   "outputs": [
    {
     "name": "stdout",
     "output_type": "stream",
     "text": [
      "functools.partial(<class 'map'>, <function double at 0x0000026C4C67E3E0>)\n"
     ]
    }
   ],
   "source": [
    "from functools import partial, reduce\n",
    "\n",
    "def exp(base, pot):\n",
    "    return base ** exp\n",
    "\n",
    "def eleva_a_dois(pot):\n",
    "    return exp(2,pot)\n",
    "\n",
    "def double(x):\n",
    "    return 2 * x\n",
    "\n",
    "xs = [1,2,3,4]\n",
    "duas_vez_xs = [double(x) for x in xs]\n",
    "duas_vez_xs = map(double, xs)\n",
    "duplicar_lista = partial(map, double)\n",
    "print(duplicar_lista)"
   ]
  },
  {
   "cell_type": "code",
   "execution_count": 11,
   "id": "d4ebdb3c-8fb5-446d-844a-da07cd738679",
   "metadata": {},
   "outputs": [],
   "source": [
    "def multiplicar(x,s):\n",
    "    return x*y\n",
    "\n",
    "produtos = map(multiplicar, [1,2],[3,4])\n"
   ]
  },
  {
   "cell_type": "code",
   "execution_count": 25,
   "id": "fd74ee39-b53f-49fd-b5b6-5736840d8aa2",
   "metadata": {},
   "outputs": [
    {
     "name": "stdout",
     "output_type": "stream",
     "text": [
      "[2, 4]\n",
      "[2, 4]\n",
      "functools.partial(<class 'filter'>, <function eh_par at 0x0000026C4C67C4A0>)\n"
     ]
    }
   ],
   "source": [
    "def eh_par(x):\n",
    "    return x % 2 == 0\n",
    "\n",
    "x_ehpar = [x for x in xs if eh_par(x)]\n",
    "print(x_ehpar)\n",
    "\n",
    "X_ehpar = filter(eh_par, xs)\n",
    "print(x_ehpar)\n",
    "\n",
    "lista_pares = partial(filter, eh_par)\n",
    "print(lista_pares)\n"
   ]
  },
  {
   "cell_type": "code",
   "execution_count": 27,
   "id": "6f1ba14a-ef3d-4c4c-8ccc-8619f4d208b4",
   "metadata": {},
   "outputs": [
    {
     "data": {
      "text/plain": [
       "<zip at 0x26c4c229400>"
      ]
     },
     "execution_count": 27,
     "metadata": {},
     "output_type": "execute_result"
    }
   ],
   "source": [
    "lista1 = ['a','b','c']\n",
    "lista2 = [1,2,3]\n",
    "zip(lista1,lista2)"
   ]
  },
  {
   "cell_type": "code",
   "execution_count": null,
   "id": "1afe2163-65e1-4551-96c5-4ea15ec1b623",
   "metadata": {},
   "outputs": [],
   "source": []
  }
 ],
 "metadata": {
  "kernelspec": {
   "display_name": "Python 3 (ipykernel)",
   "language": "python",
   "name": "python3"
  },
  "language_info": {
   "codemirror_mode": {
    "name": "ipython",
    "version": 3
   },
   "file_extension": ".py",
   "mimetype": "text/x-python",
   "name": "python",
   "nbconvert_exporter": "python",
   "pygments_lexer": "ipython3",
   "version": "3.11.7"
  }
 },
 "nbformat": 4,
 "nbformat_minor": 5
}
